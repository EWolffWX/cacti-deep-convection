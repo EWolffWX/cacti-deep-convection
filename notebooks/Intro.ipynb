{
 "cells": [
  {
   "cell_type": "markdown",
   "metadata": {},
   "source": [
    "<img src=\"images/relampago_cacti_draft_logo-01.png\" width=250 alt=\"Relampago_log\"></img>\n",
    "<!-- <img src=\"images/ARM_Logo.png\" width=250 alt=\"Relampago_log\"></img> -->"
   ]
  },
  {
   "cell_type": "markdown",
   "metadata": {},
   "source": [
    "# Convection initiation in Sierras de Cordoba\n"
   ]
  },
  {
   "cell_type": "markdown",
   "metadata": {},
   "source": [
    "---"
   ]
  },
  {
   "cell_type": "markdown",
   "metadata": {},
   "source": [
    "## Overview\n",
    "\n",
    "We will look at the 2019-01-29 convective storm near the Sierras de Cordoba\n",
    "\n",
    "<video src=\"images/corlasso_animtb_2019012900_goes16band13.mp4\"  width=500 controls></video>"
   ]
  },
  {
   "cell_type": "markdown",
   "metadata": {},
   "source": [
    "## Science Question(s)\n",
    "1) How is deep convection initiation controlled by local and regional meteorological conditions (Thunderstorm life cycle)as well as the geography?\n",
    "\n",
    "\n",
    "## Project Scope (what does success look like)?\n",
    "- Learning how to use LASSO simulatiom and ARM data. \n",
    "- Understand how convection is initiated in our domain by looking at measurements \n",
    "- Where convection is initiated in our domain of study\n",
    "- Comparison between observation and summulations \n",
    "\n",
    "## Hypothesis (or Hypotheses)\n",
    "- Convection initiation near the ARM site is caused largely by orographic effects in addition to surface heating and advection of moisture from the Pacific.\n",
    "\n",
    "## Group Members\n",
    "Eddie Wolff, Dhwanit J. Mise, Natalia Roldan, Alfonso Ladino, Victor Ojo"
   ]
  },
  {
   "cell_type": "markdown",
   "metadata": {},
   "source": [
    "## Prerequisites\n",
    "\n",
    "| Concepts | Importance | Notes |\n",
    "| --- | --- | --- |\n",
    "| [Intro to Cartopy](https://foundations.projectpythia.org/core/cartopy/cartopy.html) | Necessary | |\n",
    "| [Understanding of NetCDF](https://foundations.projectpythia.org/core/data-formats/netcdf-cf.html) | Helpful | Familiarity with metadata structure |\n",
    "| Project management | Helpful | |\n",
    "\n",
    "- **Time to learn**: estimate in minutes. For a rough idea, use 5 mins per subsection, 10 if longer; add these up for a total"
   ]
  },
  {
   "cell_type": "markdown",
   "metadata": {},
   "source": [
    "---"
   ]
  },
  {
   "cell_type": "markdown",
   "metadata": {},
   "source": [
    "## Imports\n",
    "Let's import our required libraries"
   ]
  },
  {
   "cell_type": "code",
   "execution_count": null,
   "metadata": {},
   "outputs": [],
   "source": [
    "import act\n",
    "import xarray as xr\n",
    "import cmweather\n",
    "import matplotlib.pyplot as plt\n",
    "import numpy as np\n",
    "import pyart\n",
    "import hvplot.xarray\n",
    "import holoviews as hv\n",
    "import glob\n",
    "import xradar as xd\n",
    "import cartopy.crs as ccrs\n",
    "from dask.distributed import Client, LocalCluster\n",
    "from functools import partial\n",
    "hv.extension(\"bokeh\")"
   ]
  },
  {
   "cell_type": "markdown",
   "metadata": {},
   "source": [
    "## Dask Cluster\n",
    "Let's spin up our local cluster using `Dask`"
   ]
  },
  {
   "cell_type": "code",
   "execution_count": null,
   "metadata": {},
   "outputs": [],
   "source": [
    "client = Client(LocalCluster())"
   ]
  },
  {
   "cell_type": "markdown",
   "metadata": {},
   "source": [
    "## Data acquisition"
   ]
  },
  {
   "cell_type": "code",
   "execution_count": null,
   "metadata": {},
   "outputs": [],
   "source": [
    "username = \"XXXXXX\"  ## Use your ARM username\n",
    "token = \"XXXXX\" ### Use your ARM token ()"
   ]
  },
  {
   "cell_type": "markdown",
   "metadata": {},
   "source": [
    "We are going to analyze data from the **C-band Scanning ARM Precipitation Radar** [CSARP](https://www.arm.gov/capabilities/instruments/csapr) and the **Ka-band ARM Zenith Radar** [KZAR](https://www.arm.gov/capabilities/instruments/kazr). Data from both sensors can be found at the [ARM Data Discovery](https://adc.arm.gov/discovery/) portal under the porta data tab. Then, we can filter data by date, sensor, and field campaign. Once the desired data is located, we can get the identification. In our case, for the CSARP will be `corcsapr2cmacppiM1.c1` and for KZAR `corarsclkazr1kolliasM1.c1`"
   ]
  },
  {
   "cell_type": "code",
   "execution_count": null,
   "metadata": {
    "scrolled": true
   },
   "outputs": [],
   "source": [
    "# Set the datastream and start/enddates\n",
    "kzar = 'corarsclkazr1kolliasM1.c1'\n",
    "csarp = \"corcsapr2cmacppiM1.c1\"\n",
    "startdate = '2019-01-29T13:00:00'\n",
    "enddate = '2019-01-29T20:00:00'"
   ]
  },
  {
   "cell_type": "markdown",
   "metadata": {},
   "source": [
    "\n",
    "Then, we can use the Atmospheric Data Community Toolkit [ACT](https://arm-doe.github.io/ACT/) to easily download the data. The [`act.discovery.download_arm_data`](https://arm-doe.github.io/ACT/API/generated/act.discovery.download_neon_data.html) module will allow us to download the data directly to our computer. Watch for the data citation! Show some support for ARM's instrument experts and cite their data if you use it in a publication.\n"
   ]
  },
  {
   "cell_type": "code",
   "execution_count": null,
   "metadata": {
    "scrolled": true
   },
   "outputs": [],
   "source": [
    "# CSARP files\n",
    "# csapr_files = act.discovery.download_arm_data(username, token, csarp, startdate, enddate)"
   ]
  },
  {
   "cell_type": "markdown",
   "metadata": {},
   "source": [
    "To examine the CACTI domain, we'll read in one timestep from the LASSO simulations and plot the terrain."
   ]
  },
  {
   "cell_type": "code",
   "execution_count": null,
   "metadata": {},
   "outputs": [],
   "source": [
    "path_staging = \"/data/project/ARM_Summer_School_2024_Data/lasso_tutorial/cacti/lasso-cacti\"  # path on Jupyter\n",
    "file_list = sorted(glob.glob(f'{path_staging}/20190129/eda09/base/les/subset_d3/corlasso_met_*'))\n",
    "\n",
    "ds = xr.open_dataset(file_list[50])\n",
    "ds"
   ]
  },
  {
   "cell_type": "markdown",
   "metadata": {},
   "source": [
    "We'll also plot the location of the CSAPR radar using the metadata from one of the radar files"
   ]
  },
  {
   "cell_type": "code",
   "execution_count": null,
   "metadata": {},
   "outputs": [],
   "source": [
    "# Set the datastream and start/enddates\n",
    "# Set your username and token here!\n",
    "username = 'ecwolff'\n",
    "token = '69d210b6616805b2'\n",
    "\n",
    "datastream = 'corcsapr2cmacppiM1.c1'\n",
    "startdate = '2019-01-29T18:00:00'\n",
    "enddate = '2019-01-29T20:00:00'\n",
    "\n",
    "# Use ACT to easily download the data.  Watch for the data citation!  Show some support\n",
    "# for ARM's instrument experts and cite their data if you use it in a publication\n",
    "result = act.discovery.download_arm_data(username, token, datastream, startdate, enddate)"
   ]
  },
  {
   "cell_type": "code",
   "execution_count": null,
   "metadata": {},
   "outputs": [],
   "source": [
    "files = sorted(glob.glob('corcsapr2cmacppiM1.c1/*'))\n",
    "radar = xd.io.open_cfradial1_datatree(files[2], first_dim=\"auto\")\n",
    "radar = radar.xradar.georeference()\n",
    "display(radar)"
   ]
  },
  {
   "cell_type": "code",
   "execution_count": null,
   "metadata": {},
   "outputs": [],
   "source": [
    "CSAPR_lat = float(radar.latitude.values)\n",
    "CSAPR_lon = float(radar.longitude.values)\n",
    "\n",
    "cf = plt.contourf(ds.XLONG, ds.XLAT, ds.HGT[0,:,:], cmap='terrain', levels=np.arange(0, 2500, 50))\n",
    "plt.scatter(CSAPR_lon, CSAPR_lat, s=50, c='tab:red', label='ARM Site')\n",
    "plt.title('CACTI Domain', fontsize=15)\n",
    "plt.colorbar(cf, label='Height (m)')\n",
    "plt.legend()"
   ]
  },
  {
   "cell_type": "markdown",
   "metadata": {},
   "source": [
    "Now let's examine the convection occurring during this particular day. To do this, we'll use one of the radar files we imported above."
   ]
  },
  {
   "cell_type": "code",
   "execution_count": null,
   "metadata": {},
   "outputs": [],
   "source": [
    "import hvplot.xarray\n",
    "import holoviews as hv\n",
    "hv.extension('bokeh')"
   ]
  },
  {
   "cell_type": "code",
   "execution_count": null,
   "metadata": {},
   "outputs": [],
   "source": [
    "vel_plot = radar['sweep_0'][\"mean_doppler_velocity\"].hvplot.quadmesh(x=\"x\", y=\"y\", cmap=\"balance\", \n",
    "                                                          height=300, width=400, \n",
    "                                                          clim=(-20, 20),\n",
    "                                                          rasterize=True)"
   ]
  },
  {
   "cell_type": "code",
   "execution_count": null,
   "metadata": {},
   "outputs": [],
   "source": [
    "ref_plot = radar['sweep_0'][\"reflectivity\"].hvplot.quadmesh(x=\"x\", y=\"y\", cmap=\"ChaseSpectral\", \n",
    "                                                          height=300, width=400, \n",
    "                                                          clim=(-20, 70),\n",
    "                                                          rasterize=True)"
   ]
  },
  {
   "cell_type": "code",
   "execution_count": null,
   "metadata": {},
   "outputs": [],
   "source": [
    "ref_plot+vel_plot"
   ]
  },
  {
   "cell_type": "markdown",
   "metadata": {},
   "source": [
    "We can see that all of the storms seem to be forming along one particular area. It looks like this might be the mountain range in the center of the CACTI domain shown above, but let's overlay terrain on the radar image to verify this."
   ]
  },
  {
   "cell_type": "code",
   "execution_count": null,
   "metadata": {},
   "outputs": [],
   "source": [
    "proj_crs = xd.georeference.get_crs(radar[\"sweep_0\"].ds)\n",
    "cart_crs = cartopy.crs.Projection(proj_crs)"
   ]
  },
  {
   "cell_type": "code",
   "execution_count": null,
   "metadata": {},
   "outputs": [],
   "source": [
    "fig = plt.figure(figsize=(10, 10))\n",
    "ax = fig.add_subplot(111, projection=cartopy.crs.PlateCarree())\n",
    "radar[\"sweep_0\"][\"reflectivity\"].plot(\n",
    "    x=\"x\",\n",
    "    y=\"y\",\n",
    "    cmap=\"ChaseSpectral\",\n",
    "    transform=cart_crs,\n",
    "    cbar_kwargs=dict(pad=0.075, shrink=0.75),\n",
    "    vmin=-20,\n",
    "    vmax=70\n",
    ")\n",
    "ax.coastlines()\n",
    "ax.gridlines(draw_labels=True)\n",
    "\n",
    "ax.set_xlim([-66,-63.5])\n",
    "ax.set_ylim([-33.5, -31])\n",
    "\n",
    "cf = plt.contour(ds.XLONG, ds.XLAT, ds.HGT[0,:,:], cmap='terrain', levels=np.arange(0, 2500, 350), \n",
    "                 transform=cartopy.crs.PlateCarree())"
   ]
  },
  {
   "cell_type": "markdown",
   "metadata": {},
   "source": [
    "As we suspected, the storms are all located just east of the Sierras de Cordoba. This leads us to our hypothesis..."
   ]
  },
  {
   "cell_type": "markdown",
   "metadata": {},
   "source": [
    "## Radar reflectivity plots\n"
   ]
  },
  {
   "cell_type": "markdown",
   "metadata": {},
   "source": [
    "### CSARP"
   ]
  },
  {
   "cell_type": "markdown",
   "metadata": {},
   "source": [
    "We found in total 15 files for the 2021-01-29 deep convective storms as follows"
   ]
  },
  {
   "cell_type": "code",
   "execution_count": null,
   "metadata": {},
   "outputs": [],
   "source": [
    "files = sorted(glob.glob('corcsapr2cmacppiM1.c1/*'))\n",
    "files[:3]"
   ]
  },
  {
   "cell_type": "markdown",
   "metadata": {},
   "source": [
    "## Read the Data\n",
    "We need to coarsen the azimuth angle, which willmake merging across different volume scans easier."
   ]
  },
  {
   "cell_type": "code",
   "execution_count": null,
   "metadata": {},
   "outputs": [],
   "source": [
    "def fix_angle(ds):\n",
    "    \"\"\"\n",
    "    Aligns the radar volumes\n",
    "    \"\"\"\n",
    "    ds[\"time\"] = ds.time.load()  # Convert time from dask to numpy\n",
    "\n",
    "    start_ang = 0  # Set consistent start/end values\n",
    "    stop_ang = 360\n",
    "\n",
    "    # Find the median angle resolution\n",
    "    angle_res = ds.azimuth.diff(\"azimuth\").median()\n",
    "\n",
    "    # Determine whether the radar is spinning clockwise or counterclockwise\n",
    "    median_diff = ds.azimuth.diff(\"time\").median()\n",
    "    ascending = median_diff > 0\n",
    "    direction = 1 if ascending else -1\n",
    "\n",
    "    # first find exact duplicates and remove\n",
    "    ds = xd.util.remove_duplicate_rays(ds)\n",
    "\n",
    "    # second reindex according to retrieved parameters\n",
    "    ds = xd.util.reindex_angle(\n",
    "        ds, start_ang, stop_ang, angle_res, direction, method=\"nearest\"\n",
    "    )\n",
    "\n",
    "    ds = ds.expand_dims(\"volume_time\")  # Expand for volumes for concatenation\n",
    "\n",
    "    ds[\"volume_time\"] = [np.nanmin(ds.time.values)]\n",
    "\n",
    "    return ds"
   ]
  },
  {
   "cell_type": "code",
   "execution_count": null,
   "metadata": {},
   "outputs": [],
   "source": [
    "dsets = []\n",
    "for file in files:\n",
    "    ds = xd.io.open_cfradial1_datatree(file)[\"sweep_0\"].to_dataset()\n",
    "    ds[\"azimuth\"] = ds.azimuth.round(2)\n",
    "    ds = fix_angle(ds)\n",
    "    dsets.append(ds)"
   ]
  },
  {
   "cell_type": "code",
   "execution_count": null,
   "metadata": {},
   "outputs": [],
   "source": [
    "ds = xr.concat(dsets, dim='volume_time')\n",
    "ds"
   ]
  },
  {
   "cell_type": "code",
   "execution_count": null,
   "metadata": {},
   "outputs": [],
   "source": [
    "ds = ds.xradar.georeference()"
   ]
  },
  {
   "cell_type": "code",
   "execution_count": null,
   "metadata": {},
   "outputs": [],
   "source": [
    "proj_crs = xd.georeference.get_crs(ds)\n",
    "cart_crs = ccrs.Projection(proj_crs)"
   ]
  },
  {
   "cell_type": "code",
   "execution_count": null,
   "metadata": {},
   "outputs": [],
   "source": [
    "ds.reflectivity.hvplot.quadmesh(x='x',\n",
    "                                          y='y',\n",
    "                                          cmap='pyart_ChaseSpectral',\n",
    "                                          groupby='volume_time',\n",
    "                                          widget_type=\"scrubber\",\n",
    "                                          widget_location=\"bottom\",\n",
    "                                          clim=(-20, 70),\n",
    "                                          width=600,\n",
    "                                          height=500,\n",
    "                                          rasterize=True)\n"
   ]
  },
  {
   "cell_type": "code",
   "execution_count": null,
   "metadata": {},
   "outputs": [],
   "source": [
    "def rain_rate(ds, a=200, b=1.6, dt=5):\n",
    "    z = ds.corrected_reflectivity\n",
    "    z_lin = 10 ** (z / 10)\n",
    "    ds['rr'] =((1 / a) ** (1 / b) * z_lin ** (1 / b)) * (dt/ 60) \n",
    "    return ds"
   ]
  },
  {
   "cell_type": "code",
   "execution_count": null,
   "metadata": {},
   "outputs": [],
   "source": [
    "ds = rain_rate(ds, a=250, b=1.2, dt=15)\n",
    "ds"
   ]
  },
  {
   "cell_type": "markdown",
   "metadata": {},
   "source": [
    "### KZAR"
   ]
  },
  {
   "cell_type": "code",
   "execution_count": null,
   "metadata": {},
   "outputs": [],
   "source": []
  },
  {
   "cell_type": "code",
   "execution_count": null,
   "metadata": {},
   "outputs": [],
   "source": [
    "# KZAR files\n",
    "# kzar_files = act.discovery.download_arm_data(username, token, kzar, startdate, enddate)"
   ]
  },
  {
   "cell_type": "code",
   "execution_count": null,
   "metadata": {},
   "outputs": [],
   "source": [
    "# ds_kzar = act.io.read_arm_netcdf(\"corarsclkazr1kolliasM1.c1/corarsclkazr1kolliasM1.c1.20190129.000000.nc\")\n",
    "ds_kzar = xr.open_dataset(\"corarsclkazr1kolliasM1.c1/corarsclkazr1kolliasM1.c1.20190129.000000.nc\")\n",
    "display(ds_kzar)"
   ]
  },
  {
   "cell_type": "markdown",
   "metadata": {},
   "source": [
    "As we are interested in the convective storm that occurred between the 16:00 and the 19:00 we can subset our dataset to only keep storm data"
   ]
  },
  {
   "cell_type": "code",
   "execution_count": null,
   "metadata": {},
   "outputs": [],
   "source": [
    "ds_kzar = ds_kzar.sel(time=slice('2019-01-29 16:00', '2019-01-29 19:00'))"
   ]
  },
  {
   "cell_type": "markdown",
   "metadata": {},
   "source": [
    "We would like see how radar reflectivity looks like in both instrument Therefore, we can use `hvplot` to create interactive plots "
   ]
  },
  {
   "cell_type": "code",
   "execution_count": null,
   "metadata": {},
   "outputs": [],
   "source": [
    "ref = ds_kzar.reflectivity_best_estimate.hvplot.quadmesh(x=\"time\", y=\"height\", \n",
    "                                                         cmap=\"ChaseSpectral\", \n",
    "                                                         clim=(-20, 40),\n",
    "                                                         rasterize=True, \n",
    "                                                         width=1000, \n",
    "                                                         height=300)\n",
    "vel = ds_kzar.mean_doppler_velocity.hvplot.quadmesh(x=\"time\", y=\"height\", \n",
    "                                                         cmap=\"pyart_balance\", \n",
    "                                                         clim=(-20, 20),\n",
    "                                                         rasterize=True, \n",
    "                                                         width=1000, \n",
    "                                                         height=300)"
   ]
  },
  {
   "cell_type": "code",
   "execution_count": null,
   "metadata": {},
   "outputs": [],
   "source": [
    "ref + vel\n"
   ]
  },
  {
   "cell_type": "markdown",
   "metadata": {},
   "source": [
    "## CACTI Domain Overview"
   ]
  },
  {
   "cell_type": "markdown",
   "metadata": {},
   "source": [
    "---"
   ]
  },
  {
   "cell_type": "markdown",
   "metadata": {},
   "source": [
    "## Summary\n",
    "Add one final `---` marking the end of your body of content, and then conclude with a brief single paragraph summarizing at a high level the key pieces that were learned and how they tied to your objectives. Look to reiterate what the most important takeaways were.\n",
    "\n",
    "### What's next?\n",
    "Let Jupyter book tie this to the next (sequential) piece of content that people could move on to down below and in the sidebar. However, if this page uniquely enables your reader to tackle other nonsequential concepts throughout this book, or even external content, link to it here!"
   ]
  },
  {
   "cell_type": "markdown",
   "metadata": {},
   "source": [
    "## Resources and references\n",
    "Finally, be rigorous in your citations and references as necessary. Give credit where credit is due. Also, feel free to link to relevant external material, further reading, documentation, etc. Then you're done! Give yourself a quick review, a high five, and send us a pull request. A few final notes:\n",
    " - `Kernel > Restart Kernel and Run All Cells...` to confirm that your notebook will cleanly run from start to finish\n",
    " - `Kernel > Restart Kernel and Clear All Outputs...` before committing your notebook, our machines will do the heavy lifting\n",
    " - Take credit! Provide author contact information if you'd like; if so, consider adding information here at the bottom of your notebook\n",
    " - Give credit! Attribute appropriate authorship for referenced code, information, images, etc.\n",
    " - Only include what you're legally allowed: **no copyright infringement or plagiarism**\n",
    " \n",
    "Thank you for your contribution!"
   ]
  }
 ],
 "metadata": {
  "kernelspec": {
   "display_name": "Python 3 (ipykernel)",
   "language": "python",
   "name": "python3"
  },
  "language_info": {
   "codemirror_mode": {
    "name": "ipython",
    "version": 3
   },
   "file_extension": ".py",
   "mimetype": "text/x-python",
   "name": "python",
   "nbconvert_exporter": "python",
   "pygments_lexer": "ipython3",
   "version": "3.11.9"
  },
  "nbdime-conflicts": {
   "local_diff": [
    {
     "diff": [
      {
       "diff": [
        {
         "key": 0,
         "op": "addrange",
         "valuelist": [
          "Python 3"
         ]
        },
        {
         "key": 0,
         "length": 1,
         "op": "removerange"
        }
       ],
       "key": "display_name",
       "op": "patch"
      }
     ],
     "key": "kernelspec",
     "op": "patch"
    }
   ],
   "remote_diff": [
    {
     "diff": [
      {
       "diff": [
        {
         "key": 0,
         "op": "addrange",
         "valuelist": [
          "Python3"
         ]
        },
        {
         "key": 0,
         "length": 1,
         "op": "removerange"
        }
       ],
       "key": "display_name",
       "op": "patch"
      }
     ],
     "key": "kernelspec",
     "op": "patch"
    }
   ]
  },
  "toc-autonumbering": false
 },
 "nbformat": 4,
 "nbformat_minor": 4
}
