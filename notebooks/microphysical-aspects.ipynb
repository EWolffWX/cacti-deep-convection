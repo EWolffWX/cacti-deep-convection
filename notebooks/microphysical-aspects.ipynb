{
 "cells": [
  {
   "cell_type": "markdown",
   "id": "784c22cb-f0fa-447e-a69a-74a52f015d7a",
   "metadata": {},
   "source": [
    "<img src=\"images/ARM_Logo.png\" width=250 alt=\"Relampago_log\"></img>"
   ]
  },
  {
   "cell_type": "markdown",
   "id": "319be4b5-e6d9-4f86-aa3e-d79213530f8a",
   "metadata": {},
   "source": [
    "# Microphysical Aspects"
   ]
  },
  {
   "cell_type": "markdown",
   "id": "d58af9a1-3d57-4ec3-bfa2-255f759f2ba7",
   "metadata": {},
   "source": [
    "### Imports "
   ]
  },
  {
   "cell_type": "code",
   "execution_count": null,
   "id": "b2401a11-1c01-45f8-8f33-973530b8cf83",
   "metadata": {},
   "outputs": [],
   "source": [
    "from datetime import datetime, timedelta\n",
    "from functools import partial\n",
    "import numpy as np\n",
    "import pandas as pd\n",
    "import xarray as xr\n",
    "import os\n",
    "from datetime import datetime, timedelta\n",
    "import act\n",
    "import xarray as xr\n",
    "import matplotlib.pyplot as plt\n",
    "from matplotlib.animation import PillowWriter\n",
    "import imageio\n",
    "import matplotlib\n",
    "import matplotlib.animation as animation\n",
    "import matplotlib.pyplot as plt\n",
    "import matplotlib.gridspec as gridspec\n",
    "from matplotlib.colors import Normalize"
   ]
  },
  {
   "cell_type": "markdown",
   "id": "33267dbe-5718-4855-b600-b6a33c693f1b",
   "metadata": {},
   "source": [
    "### Download the disdrometer data\n",
    "For chosen case,download the Disdrometer data from ARM site at Cordoba, use the required startdate and enddate, select the correct datastream."
   ]
  },
  {
   "cell_type": "code",
   "execution_count": null,
   "id": "c6ead853-9b03-46e2-9a44-89d145dc2262",
   "metadata": {},
   "outputs": [],
   "source": [
    "username=\"dhwanit\"\n",
    "token=\"3921814e4c79c99d\"\n",
    "# Set the datastream and start/enddates    \n",
    "datastream_disdro ='corldM1.b1'    #DISDRO\n",
    "startdate = '2019-01-29'\n",
    "enddate = '2019-01-29'\n",
    "\n",
    "result1 = act.discovery.download_arm_data(username, token, datastream, startdate, enddate)\n",
    "result2 = act.discovery.download_arm_data(username, token, datastream_disdro, startdate, enddate)\n"
   ]
  },
  {
   "cell_type": "markdown",
   "id": "b038359c-565b-4bc7-902c-4e64e13d26ee",
   "metadata": {},
   "source": [
    "### Read using xarray\n",
    "Read the data"
   ]
  },
  {
   "cell_type": "code",
   "execution_count": null,
   "id": "04ab873d-0ae9-4258-8d59-7e7b1d34b97a",
   "metadata": {},
   "outputs": [],
   "source": [
    "ds2=xr.open_dataset(\"/data/home/dhwanit/CACTI_Deep_Convection/corldM1.b1/corldM1.b1.20190129.000000.cdf\")\n"
   ]
  },
  {
   "cell_type": "markdown",
   "id": "30cbb6f3-9528-40a3-bdba-32011e7eb3e5",
   "metadata": {},
   "source": [
    "### Plotting\n",
    "\n",
    "Plotting Precipitation Intensity(mm/hr) to indentify the actual rainfall timings"
   ]
  },
  {
   "cell_type": "code",
   "execution_count": null,
   "id": "a41f27df-f3cd-4cc4-93a5-bcb188dec7ff",
   "metadata": {},
   "outputs": [],
   "source": [
    "fig = plt.figure(figsize=(6, 3))\n",
    "ds2.precip_rate.plot()\n",
    "plt.title(\"Precipitation Intensity\")\n",
    "plt.ylim(0,100)\n",
    "#plt.savefig(\"Precipitation_Intensity.png\")\n",
    "plt.show()\n"
   ]
  },
  {
   "cell_type": "markdown",
   "id": "a37c47c6-552f-43c9-afb6-aed48742239e",
   "metadata": {},
   "source": [
    "The higher precipitation Intensity indicates the presence of convective rainfall during 17:30 to 19:00 UTC,"
   ]
  },
  {
   "cell_type": "markdown",
   "id": "b760bf53-9552-4f07-809a-96d2ee7c0858",
   "metadata": {},
   "source": [
    "Plot the Equivalent Reflectivity factor(Z) retrieved from the disdrodata"
   ]
  },
  {
   "cell_type": "code",
   "execution_count": null,
   "id": "7a83c93a-2166-4d5a-bba2-2a3f4f28fb4b",
   "metadata": {},
   "outputs": [],
   "source": [
    "\n",
    "fig = plt.figure(figsize=(6, 3))\n",
    "ds2.equivalent_radar_reflectivity.plot()"
   ]
  },
  {
   "cell_type": "markdown",
   "id": "4b64d49d-7905-4b2e-8fe5-7a3576cfc56a",
   "metadata": {},
   "source": [
    "the peak Z values during the actual event indicates the presence of large sized droplets.\n",
    "\n",
    "Plot the drop size distribution."
   ]
  },
  {
   "cell_type": "code",
   "execution_count": null,
   "id": "76639ca6-2f8c-4f49-bcd1-a2c10f848378",
   "metadata": {},
   "outputs": [],
   "source": [
    "particle_size = ds2['particle_size'].values\n",
    "time_slice = slice('2019-01-29T18:25:00', '2019-01-29T19:10:00')\n",
    "number_density_drops_slice = ds2['number_density_drops'].sel(time=time_slice).mean(dim='time').values"
   ]
  },
  {
   "cell_type": "code",
   "execution_count": null,
   "id": "7bfea181-0857-448c-9f5c-e5b744074d76",
   "metadata": {},
   "outputs": [],
   "source": [
    "fig, ax = plt.subplots(figsize=(6, 3))\n",
    "ax.plot(particle_size, number_density_drops_slice,marker=\".\")\n",
    "# ax.set_xscale('log')\n",
    "# ax.set_yscale('log')\n",
    "ax.set_xlim(0,6)  \n",
    "#ax.set_ylim(1e-2, 1e4) \n",
    "ax.set_ylim(0,1400)\n",
    "ax.minorticks_on()\n",
    "plt.xlabel('Particle Size (mm)')\n",
    "plt.ylabel('Number Density of Drops')\n",
    "plt.title('Drop Size Distribution using Disdrometer')\n",
    "plt.savefig(\"DSD.png\")\n",
    "plt.show()"
   ]
  },
  {
   "cell_type": "markdown",
   "id": "fa97653c-58d2-4435-9580-6630743b4af2",
   "metadata": {},
   "source": [
    "## Mixing ratio profile from lasso\n",
    "\n",
    "Selection of date, read all the Lasso data.\n",
    "\n",
    "Plot the vertical sections of mixing ratios for all the files and create a Gif."
   ]
  },
  {
   "cell_type": "code",
   "execution_count": null,
   "id": "f64a5837-7f28-4304-a278-7ee01f1123e0",
   "metadata": {},
   "outputs": [],
   "source": [
    "path_staging = \"data/project/ARM_Summer_School_2024_Data/lasso_tutorial/cacti/lasso-cacti/20190129/eda09/base/les/subset_d3/\"\n",
    "file_pattern = \"corlasso_met_*.nc\"\n",
    "full_pattern = os.path.join(path_staging, file_pattern)\n",
    "# Get the list of matching files\n",
    "matching_files = glob.glob(full_pattern)\n",
    "# Loop through each file and plot Q2\n",
    "for file in matching_files:\n",
    "    ds = xr.open_dataset(file)\n",
    "    if 'Q2' in ds.variables:\n",
    "        ds['Q2'].plot()\n",
    "        plt.title(f\"Q2 from file: {os.path.basename(file)}\")\n",
    "        plt.show()\n",
    "    else:\n",
    "        print(f\"'Q2' not found in file: {file}\")\n"
   ]
  },
  {
   "cell_type": "markdown",
   "id": "78b8a035-730e-4058-a0c9-845be80bb847",
   "metadata": {},
   "source": [
    "Vertical cross section of Mixing ratio from lasso.\n",
    "\n",
    "Select the target datetime, start and end times of interest and longitude bounds.\n",
    "\n",
    "The vertical section passes through the ARM deployment at Cordoba\n"
   ]
  },
  {
   "cell_type": "code",
   "execution_count": null,
   "id": "267262b8-a619-4ed2-879d-a2f75ec313b0",
   "metadata": {},
   "outputs": [],
   "source": [
    "\n",
    "case_date = datetime(2019, 1, 29)\n",
    "time_start = case_date + timedelta(hours=14)  # start time\n",
    "time_end = case_date + timedelta(hours=20)  # end time\n",
    "time_step = timedelta(minutes=15)  # time step interval\n",
    "# Simulation selection within the case date:\n",
    "ens_name = \"eda09\"\n",
    "config_label = \"base\"\n",
    "domain = 2\n",
    "plot_lat = -(32.+(7./60.)+(35.076/3600.))  # latitude to sample\n",
    "\n",
    "rootpath_wrf = \"/data/project/ARM_Summer_School_2024_Data/lasso_tutorial/cacti/lasso-cacti\"\n",
    "scale = \"meso\" if domain < 3 else \"les\"\n",
    "path_wrf_subset = f\"{rootpath_wrf}/{case_date:%Y%m%d}/{ens_name}/{config_label}/{scale}/subset_d{domain}\"\n",
    "filename_stat = f\"{path_wrf_subset}/corlasso_stat_{case_date:%Y%m%d}00{ens_name}d{domain}_{config_label}_M1.m1.{time_start:%Y%m%d.%H%M}00.nc\"\n",
    "ds_stat = xr.open_dataset(filename_stat)\n",
    "lats = ds_stat[\"XLAT\"]\n",
    "lons = ds_stat[\"XLONG\"]\n",
    "nlat, nlon = lons.shape\n",
    "abslat = np.abs(lats.isel(west_east=int(nlon/2)) - plot_lat)\n",
    "jloc = np.argmin(abslat.values)\n",
    "hgt = ds_stat[\"HGT\"].isel(Time=0, south_north=jloc)  # terrain height along the cross section's swath\n",
    "frames = []\n",
    "# Loop through every time step\n",
    "current_time = time_start\n",
    "while current_time <= time_end:\n",
    "    filename_met = f\"{path_wrf_subset}/corlasso_met_{case_date:%Y%m%d}00{ens_name}d{domain}_{config_label}_M1.m1.{current_time:%Y%m%d.%H%M}00.nc\"\n",
    "    filename_cld = f\"{path_wrf_subset}/corlasso_cld_{case_date:%Y%m%d}00{ens_name}d{domain}_{config_label}_M1.m1.{current_time:%Y%m%d.%H%M}00.nc\"\n",
    "    filename_cldhamsl = f\"{path_wrf_subset}/corlasso_cldhamsl_{case_date:%Y%m%d}00{ens_name}d{domain}_{config_label}_M1.m1.{current_time:%Y%m%d.%H%M}00.nc\"\n",
    "    # Open datasets for each time step\n",
    "    ds_met = xr.open_dataset(filename_met)\n",
    "    ds_cld = xr.open_dataset(filename_cld)\n",
    "    ds_cldhamsl = xr.open_dataset(filename_cldhamsl)\n",
    "    # Select data for the current time step\n",
    "    hamsl_raw = ds_met['HAMSL'].sel(Time=np.datetime64(f\"{current_time:%Y-%m-%d %H:%M:%S}\"), south_north=jloc)\n",
    "    plotdata_hamsl = 1000. * (\n",
    "        ds_cldhamsl['QCLOUD'].sel(Time=np.datetime64(f\"{current_time:%Y-%m-%d %H:%M:%S}\"), south_north=jloc) +\n",
    "        ds_cldhamsl['QICE'].sel(Time=np.datetime64(f\"{current_time:%Y-%m-%d %H:%M:%S}\"), south_north=jloc)\n",
    "    )\n",
    "    \n",
    "    fig, axs = plt.subplots(figsize=(11, 4))\n",
    "    plotdata_hamsl.plot(ax=axs)\n",
    "    plt.ylim(0, 12000)\n",
    "    plt.title(f\"Time: {current_time:%Y-%m-%d %H:%M}\")\n",
    "    fig.canvas.draw()\n",
    "    frame = np.frombuffer(fig.canvas.tostring_rgb(), dtype='uint8')\n",
    "    frame = frame.reshape(fig.canvas.get_width_height()[::-1] + (3,))\n",
    "    frames.append(frame)\n",
    "    # plt.close(fig) \n",
    "    # ds_met.close()\n",
    "    # ds_cld.close()\n",
    "    # ds_cldhamsl.close()\n",
    "    current_time += time_step\n",
    "# Save as a GIF\n",
    "gif_filename = 'Mixing-ratio-variation.gif'\n",
    "imageio.mimsave(gif_filename, frames, fps=4)\n",
    "print(f\"GIF saved as {gif_filename}\")"
   ]
  },
  {
   "cell_type": "markdown",
   "id": "d207bb53-4dc3-49aa-9ea6-8c38b06b5888",
   "metadata": {},
   "source": [
    "<img src=\"images/Mixing-ratio-variation.gif\" width=1000 alt=\"Relampago_log\"></img>"
   ]
  },
  {
   "cell_type": "code",
   "execution_count": null,
   "id": "ddfaa4dd-2740-442b-96ba-5e9d671c5bf5",
   "metadata": {},
   "outputs": [],
   "source": []
  }
 ],
 "metadata": {
  "kernelspec": {
   "display_name": "Python [conda env:base] *",
   "language": "python",
   "name": "conda-base-py"
  },
  "language_info": {
   "codemirror_mode": {
    "name": "ipython",
    "version": 3
   },
   "file_extension": ".py",
   "mimetype": "text/x-python",
   "name": "python",
   "nbconvert_exporter": "python",
   "pygments_lexer": "ipython3",
   "version": "3.11.6"
  }
 },
 "nbformat": 4,
 "nbformat_minor": 5
}
